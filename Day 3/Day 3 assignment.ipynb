{
 "cells": [
  {
   "cell_type": "markdown",
   "metadata": {},
   "source": [
    "__Question 1 :__\n",
    "Write a program to subtract two complex numbers in Python"
   ]
  },
  {
   "cell_type": "code",
   "execution_count": 25,
   "metadata": {},
   "outputs": [
    {
     "name": "stdout",
     "output_type": "stream",
     "text": [
      "Enter first complex number : 1+2j\n",
      "Enter second complex number : 2+2j\n",
      "Result after subtracting : (-1+0j)\n"
     ]
    }
   ],
   "source": [
    "firstNum = complex(input(\"Enter first complex number : \"))\n",
    "secondNum = complex(input(\"Enter second complex number : \"))\n",
    "print(\"Result after subtracting :\",firstNum - secondNum)\n"
   ]
  },
  {
   "cell_type": "markdown",
   "metadata": {},
   "source": [
    "__Question 2 :__\n",
    "Write a program to find the fourth root of a number."
   ]
  },
  {
   "cell_type": "code",
   "execution_count": 28,
   "metadata": {},
   "outputs": [
    {
     "name": "stdout",
     "output_type": "stream",
     "text": [
      "Enter a number: 2\n",
      "Fourth root of number  2.0 is : 1.189207\n"
     ]
    }
   ],
   "source": [
    "num = float(input(\"Enter a number: \"))\n",
    "print(\"Fourth root of number \",num,\"is : {:3f}\".format(num**(1/4)))"
   ]
  },
  {
   "cell_type": "markdown",
   "metadata": {},
   "source": [
    "__Question 3:__\n",
    "Write a program to swap two numbers in Python with the help of a temporary variable."
   ]
  },
  {
   "cell_type": "code",
   "execution_count": 30,
   "metadata": {},
   "outputs": [
    {
     "name": "stdout",
     "output_type": "stream",
     "text": [
      "Enter first number : 2\n",
      "Enter second number : 3\n",
      "Before Swapping, number1 : 2.0 , number2 : 3.0\n",
      "After Swapping, number1 : 3.0 , number2 : 2.0\n"
     ]
    }
   ],
   "source": [
    "firstNum = float(input(\"Enter first number : \"))\n",
    "secondNum = float(input(\"Enter second number : \"))\n",
    "print(\"Before Swapping, number1 :\",firstNum,\", number2 :\",secondNum)\n",
    "# Swapping the numbers using temp variable\n",
    "tempNum = firstNum\n",
    "firstNum = secondNum\n",
    "secondNum = tempNum\n",
    "print(\"After Swapping, number1 :\",firstNum,\", number2 :\",secondNum)"
   ]
  },
  {
   "cell_type": "markdown",
   "metadata": {},
   "source": [
    "__Question 4:__\n",
    "Write a program to swap two numbers in Python without using a temporary variable."
   ]
  },
  {
   "cell_type": "code",
   "execution_count": 31,
   "metadata": {},
   "outputs": [
    {
     "name": "stdout",
     "output_type": "stream",
     "text": [
      "Enter first number : 2\n",
      "Enter second number : 3\n",
      "Before Swapping, number1 : 2.0 , number2 : 3.0\n",
      "After Swapping, number1 : 3.0 , number2 : 2.0\n"
     ]
    }
   ],
   "source": [
    "firstNum = float(input(\"Enter first number : \"))\n",
    "secondNum = float(input(\"Enter second number : \"))\n",
    "print(\"Before Swapping, number1 :\",firstNum,\", number2 :\",secondNum)\n",
    "# Swapping the numbers without using temp variable\n",
    "firstNum = firstNum + secondNum\n",
    "secondNum = firstNum - secondNum\n",
    "firstNum = firstNum - secondNum\n",
    "print(\"After Swapping, number1 :\",firstNum,\", number2 :\",secondNum)"
   ]
  },
  {
   "cell_type": "markdown",
   "metadata": {},
   "source": [
    "__Question 5:__\n",
    "Write a program to convert fahrenheit to kelvin and celsius both."
   ]
  },
  {
   "cell_type": "code",
   "execution_count": 32,
   "metadata": {},
   "outputs": [
    {
     "name": "stdout",
     "output_type": "stream",
     "text": [
      "Enter fareheit temperature :22.3\n",
      "Celcius temperature : -5.389\n",
      "Kelvin temperature : 267.761\n"
     ]
    }
   ],
   "source": [
    "farh = float(input(\"Enter fareheit temperature :\"))\n",
    "celcius = (farh-32)*(5/9)\n",
    "print(\"Celcius temperature : {:.3f}\".format(celcius))\n",
    "print(\"Kelvin temperature : {:.3f}\".format(celcius + 273.15))"
   ]
  },
  {
   "cell_type": "markdown",
   "metadata": {},
   "source": [
    "__Question 6:__\n",
    "Write a program to demonstrate all the available data types in Python. Hint: Use type() function."
   ]
  },
  {
   "cell_type": "code",
   "execution_count": 33,
   "metadata": {},
   "outputs": [
    {
     "name": "stdout",
     "output_type": "stream",
     "text": [
      "Value :  this is a string  --> Data Type :  <class 'str'>\n",
      "Value :  2  --> Data Type :  <class 'int'>\n",
      "Value :  1.5  --> Data Type :  <class 'float'>\n",
      "Value :  (1+2j)  --> Data Type :  <class 'complex'>\n",
      "Value :  [1, 2, 3]  --> Data Type :  <class 'list'>\n",
      "Value :  (1, 2, 3)  --> Data Type :  <class 'tuple'>\n",
      "Value :  range(0, 6)  --> Data Type :  <class 'range'>\n",
      "Value :  {'name': 'ritesh'}  --> Data Type :  <class 'dict'>\n",
      "Value :  {'ritesh'}  --> Data Type :  <class 'set'>\n",
      "Value :  True  --> Data Type :  <class 'bool'>\n"
     ]
    }
   ],
   "source": [
    "typeString = \"this is a string\"\n",
    "typeInt = 2\n",
    "typeFloat = 1.5\n",
    "typeComplex = 1+2j\n",
    "typeList = [1,2,3]\n",
    "typeTuple = (1,2,3)\n",
    "typeRange = range(6)\n",
    "typeDict = {\"name\":\"ritesh\"}\n",
    "typeSet = {\"ritesh\"}\n",
    "typeBool = True\n",
    "print(\"Value : \",typeString,\" --> Data Type : \",type(typeString))\n",
    "print(\"Value : \",typeInt,\" --> Data Type : \",type(typeInt))\n",
    "print(\"Value : \",typeFloat,\" --> Data Type : \",type(typeFloat))\n",
    "print(\"Value : \",typeComplex,\" --> Data Type : \",type(typeComplex))\n",
    "print(\"Value : \",typeList,\" --> Data Type : \",type(typeList))\n",
    "print(\"Value : \",typeTuple,\" --> Data Type : \",type(typeTuple))\n",
    "print(\"Value : \",typeRange,\" --> Data Type : \",type(typeRange))\n",
    "print(\"Value : \",typeDict,\" --> Data Type : \",type(typeDict))\n",
    "print(\"Value : \",typeSet,\" --> Data Type : \",type(typeSet))\n",
    "print(\"Value : \",typeBool,\" --> Data Type : \",type(typeBool))"
   ]
  },
  {
   "cell_type": "markdown",
   "metadata": {},
   "source": [
    "__Question 7:__\n",
    "Create a Markdown cell in jupyter and list the steps discussed in the session by Dr. Darshan\n",
    "Ingle sir to create Github profile and upload Githubs Assignment link"
   ]
  },
  {
   "cell_type": "markdown",
   "metadata": {},
   "source": [
    "# How to create a GitHub profile\n",
    "1. Go to https://github.com/\n",
    "2. Signup if you don't have an account, else Signin.\n",
    "3. Create a github public repo and name it LetsUpgrade AI/ML\n",
    "4. Upload the files/solution in the repo in day wise manner.\n",
    "5. Copy the url of the Folder of that day and paste in the Assignment Submission Form (Google Form) - https://docs.google.com/forms/d/e/1FAIpQLSevTAqI8dJNbK9qDQA0POHMdKGaZqS9c7nO3W0ture1nNfqVg/viewform\n",
    "6. Submit the form and you will receive a confirmation mail."
   ]
  }
 ],
 "metadata": {
  "kernelspec": {
   "display_name": "Python 3",
   "language": "python",
   "name": "python3"
  },
  "language_info": {
   "codemirror_mode": {
    "name": "ipython",
    "version": 3
   },
   "file_extension": ".py",
   "mimetype": "text/x-python",
   "name": "python",
   "nbconvert_exporter": "python",
   "pygments_lexer": "ipython3",
   "version": "3.7.3"
  }
 },
 "nbformat": 4,
 "nbformat_minor": 2
}
