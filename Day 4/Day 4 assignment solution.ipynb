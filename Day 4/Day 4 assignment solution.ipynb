{
 "cells": [
  {
   "cell_type": "markdown",
   "metadata": {},
   "source": [
    "__Question 1 :__\n",
    "Research on whether addition, subtraction, multiplication, division, floor division and modulo\n",
    "operations be performed on complex numbers. Based on your study, implement a Python\n",
    "program to demonstrate these operations."
   ]
  },
  {
   "cell_type": "code",
   "execution_count": 10,
   "metadata": {},
   "outputs": [
    {
     "name": "stdout",
     "output_type": "stream",
     "text": [
      "Enter first complex number : 1+2j\n",
      "Enter second complex number : 1+2j\n",
      "Addition =  (2+4j)\n",
      "Subtraction =  0j\n",
      "Multiplication =  (-3+4j)\n",
      "Division =  (1+0j)\n",
      "Floor Division can't be performed on complex numbers\n",
      "Modulo can't be performed on complex numbers\n"
     ]
    }
   ],
   "source": [
    "firstNum = complex(input(\"Enter first complex number : \"))\n",
    "secondNum = complex(input(\"Enter second complex number : \"))\n",
    "print(\"Addition = \", firstNum + secondNum)\n",
    "print(\"Subtraction = \", firstNum - secondNum)\n",
    "print(\"Multiplication = \", firstNum * secondNum)\n",
    "print(\"Division = \", firstNum/secondNum)\n",
    "print(\"Floor Division can't be performed on complex numbers\")\n",
    "print(\"Modulo can't be performed on complex numbers\")"
   ]
  },
  {
   "cell_type": "markdown",
   "metadata": {},
   "source": [
    "__Question 2__ : Research on range() functions and its parameters. Create a markdown cell and write in your own\n",
    "words (no copy-paste from google please) what you understand about it. Implement a small\n",
    "program of your choice on the same.\n",
    "\n",
    "\n",
    "__Answer__ : Range function is used to get a sequence of numbers from a start number (optional - default 0), end number(required) and step(optional)\n",
    "Parameters (integers)-\n",
    "1. start - optional, default 0\n",
    "2. stop - required\n",
    "3. step - optional"
   ]
  },
  {
   "cell_type": "code",
   "execution_count": 12,
   "metadata": {},
   "outputs": [
    {
     "name": "stdout",
     "output_type": "stream",
     "text": [
      "Enter the start number of range function :1\n",
      "Enter the stop number of range function :10\n",
      "Enter the step number of range function :2\n",
      "1\n",
      "3\n",
      "5\n",
      "7\n",
      "9\n"
     ]
    }
   ],
   "source": [
    "start = int(input(\"Enter the start number of range function :\"))\n",
    "stop = int(input(\"Enter the stop number of range function :\"))\n",
    "step = int(input(\"Enter the step number of range function :\"))\n",
    "l = range(start, stop, step)\n",
    "for i in l:\n",
    "    print(i)"
   ]
  },
  {
   "cell_type": "markdown",
   "metadata": {},
   "source": [
    "__Question 3:__ Consider two numbers. Perform their subtraction and if the result of subtraction is greater than\n",
    "25, print their multiplication result else print their division result.\n"
   ]
  },
  {
   "cell_type": "code",
   "execution_count": 14,
   "metadata": {},
   "outputs": [
    {
     "name": "stdout",
     "output_type": "stream",
     "text": [
      "Enter the first number :25\n",
      "Enter the second number :100\n",
      "Division : 0.25\n"
     ]
    }
   ],
   "source": [
    "firstNum = int(input(\"Enter the first number :\"))\n",
    "secondNum = int(input(\"Enter the second number :\"))\n",
    "if (firstNum - secondNum > 25):\n",
    "    print(\"Multiplication :\",firstNum*secondNum)\n",
    "else:\n",
    "    print(\"Division :\",firstNum/secondNum)"
   ]
  },
  {
   "cell_type": "markdown",
   "metadata": {},
   "source": [
    "__Question 4:__ Consider a list of 10 elements of integer values. If the number in the list is divisible by 2, print the\n",
    "result as \"square of that number minus 2\".\n"
   ]
  },
  {
   "cell_type": "code",
   "execution_count": 24,
   "metadata": {},
   "outputs": [
    {
     "name": "stdout",
     "output_type": "stream",
     "text": [
      "Square of 0 minus 2 = -2\n",
      "Square of 10 minus 2 = 98\n",
      "Square of 20 minus 2 = 398\n",
      "Square of 30 minus 2 = 898\n",
      "Square of 40 minus 2 = 1598\n"
     ]
    }
   ],
   "source": [
    "l = [0,5,10,15,20,25,30,35,40,45]\n",
    "for i in l:\n",
    "    if i % 2 == 0:\n",
    "        print(\"Square of {:d} minus 2 = {:d}\".format(i,i**2-2))"
   ]
  },
  {
   "cell_type": "markdown",
   "metadata": {},
   "source": [
    "__Question 5:__ Consider a list of 10 elements. Print all the elements in the list which are greater than 7 when that\n",
    "number is divided 2."
   ]
  },
  {
   "cell_type": "code",
   "execution_count": 25,
   "metadata": {},
   "outputs": [
    {
     "name": "stdout",
     "output_type": "stream",
     "text": [
      "15\n",
      "20\n",
      "25\n",
      "30\n",
      "35\n",
      "40\n",
      "45\n"
     ]
    }
   ],
   "source": [
    "l = [0,5,10,15,20,25,30,35,40,45]\n",
    "for i in l:\n",
    "    if i/2 > 7:\n",
    "        print(i)"
   ]
  }
 ],
 "metadata": {
  "kernelspec": {
   "display_name": "Python 3",
   "language": "python",
   "name": "python3"
  },
  "language_info": {
   "codemirror_mode": {
    "name": "ipython",
    "version": 3
   },
   "file_extension": ".py",
   "mimetype": "text/x-python",
   "name": "python",
   "nbconvert_exporter": "python",
   "pygments_lexer": "ipython3",
   "version": "3.7.3"
  }
 },
 "nbformat": 4,
 "nbformat_minor": 2
}
