{
 "cells": [
  {
   "cell_type": "markdown",
   "metadata": {},
   "source": [
    "__Question 1 :__Write a Python program to find the first 20 non-even prime natural numbers."
   ]
  },
  {
   "cell_type": "code",
   "execution_count": 30,
   "metadata": {},
   "outputs": [
    {
     "name": "stdout",
     "output_type": "stream",
     "text": [
      "3 5 7 11 13 17 19 23 29 31 37 41 43 47 53 59 61 67 71 73 "
     ]
    }
   ],
   "source": [
    "import math\n",
    "def isPrime(n):\n",
    "    for i in range(2,int(math.sqrt(n))+1):\n",
    "        if n % i == 0:\n",
    "            return False\n",
    "    return True\n",
    "\n",
    "count = 20\n",
    "i = 2\n",
    "while(True):\n",
    "    if isPrime(i) and i % 2 !=0:\n",
    "        print(i, end = \" \")\n",
    "        count = count - 1\n",
    "    if count == 0:\n",
    "        break\n",
    "    i = i + 1"
   ]
  },
  {
   "cell_type": "markdown",
   "metadata": {},
   "source": [
    "__Question 2 :__Write a Python program to implement 15 functions of string."
   ]
  },
  {
   "cell_type": "code",
   "execution_count": 75,
   "metadata": {},
   "outputs": [
    {
     "name": "stdout",
     "output_type": "stream",
     "text": [
      "capitalize:  Hello world\n",
      "endswith:  True\n",
      "find:  10\n",
      "isalnum:  False\n",
      "isalpha:  False\n",
      "isdigit:  False\n",
      "islower:  True\n",
      "isspace:  False\n",
      "isupper:  False\n",
      "replace:  hi world\n",
      "title:  Hello World\n",
      "upper:  HELLO WORLD\n",
      "zfill:  0000hello world\n",
      "split:  ['hello', 'world']\n",
      "swapcase:  HELLO WORLD\n"
     ]
    }
   ],
   "source": [
    "string = \"hello world\"\n",
    "print(\"capitalize: \",string.capitalize()) #1\n",
    "print(\"endswith: \",string.endswith(\"d\")) #2\n",
    "print(\"find: \",string.find(\"d\")) #3\n",
    "print(\"isalnum: \",string.isalnum()) #4\n",
    "print(\"isalpha: \",string.isalpha()) #5\n",
    "print(\"isdigit: \",string.isdigit()) #6\n",
    "print(\"islower: \",string.islower()) #7\n",
    "print(\"isspace: \",string.isspace()) #8\n",
    "print(\"isupper: \",string.isupper()) #9\n",
    "print(\"replace: \",string.replace(\"hello\",\"hi\")) #10\n",
    "print(\"title: \",string.title()) #11\n",
    "print(\"upper: \",string.upper()) #12\n",
    "print(\"zfill: \",string.zfill(15)) #13\n",
    "print(\"split: \",string.split(\" \")) #14\n",
    "print(\"swapcase: \",string.swapcase()) #15"
   ]
  },
  {
   "cell_type": "markdown",
   "metadata": {},
   "source": [
    "__Question 3:__Write a Python program to check if the given string is a Palindrome or Anagram or None of them.\n",
    "Display the message accordingly to the user.\n"
   ]
  },
  {
   "cell_type": "code",
   "execution_count": 81,
   "metadata": {},
   "outputs": [
    {
     "name": "stdout",
     "output_type": "stream",
     "text": [
      "Enter first string: aba\n",
      "Enter second string: baa\n",
      "aba is a palindrome\n",
      "baa is NOT a palindrome\n",
      "aba and baa are anagrams\n"
     ]
    }
   ],
   "source": [
    "def palindrome(string):\n",
    "    if string[::-1] == string:\n",
    "        print(string,\"is a palindrome\")\n",
    "    else:\n",
    "        print(string,\"is NOT a palindrome\")\n",
    "\n",
    "def anagram(string1, string2):\n",
    "    if sorted(string1) == sorted(string2):\n",
    "        print(string1,\"and\",string2,\"are anagrams\")\n",
    "    else:\n",
    "        print(string1,\"and\",string2,\"are NOT anagrams\")\n",
    "\n",
    "str1 = input(\"Enter first string: \")\n",
    "str2 = input(\"Enter second string: \")\n",
    "palindrome(str1)\n",
    "palindrome(str2)\n",
    "anagram(str1, str2)\n",
    "    "
   ]
  },
  {
   "cell_type": "markdown",
   "metadata": {},
   "source": [
    "__Question 4:__ Write a Python's user defined function that removes all the additional characters from the string\n",
    "and converts it finally to lower case using built-in lower(). eg: If the string is \"Dr. Darshan Ingle\n",
    "@AI-ML Trainer\", then the output be \"drdarshaningleaimltrainer\"."
   ]
  },
  {
   "cell_type": "code",
   "execution_count": 85,
   "metadata": {},
   "outputs": [
    {
     "name": "stdout",
     "output_type": "stream",
     "text": [
      "Enter a string:\"Dr. Darshan Ingle @AI-ML Trainer\n",
      "drdarshaningleaimltrainer\n"
     ]
    }
   ],
   "source": [
    "def removeAddChar(string):\n",
    "    return ''.join(i.lower() for i in string if i.isalnum())\n",
    "\n",
    "print(removeAddChar(input(\"Enter a string:\")))"
   ]
  }
 ],
 "metadata": {
  "kernelspec": {
   "display_name": "Python 3",
   "language": "python",
   "name": "python3"
  },
  "language_info": {
   "codemirror_mode": {
    "name": "ipython",
    "version": 3
   },
   "file_extension": ".py",
   "mimetype": "text/x-python",
   "name": "python",
   "nbconvert_exporter": "python",
   "pygments_lexer": "ipython3",
   "version": "3.7.3"
  }
 },
 "nbformat": 4,
 "nbformat_minor": 2
}
