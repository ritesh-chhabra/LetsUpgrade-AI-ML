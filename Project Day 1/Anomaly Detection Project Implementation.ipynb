{
 "cells": [
  {
   "cell_type": "markdown",
   "metadata": {},
   "source": [
    "# Import Python packages"
   ]
  },
  {
   "cell_type": "code",
   "execution_count": 4,
   "metadata": {},
   "outputs": [],
   "source": [
    "import os\n",
    "import sys\n",
    "import numpy as np\n",
    "import pandas as pd\n",
    "\n",
    "from sklearn.model_selection import train_test_split\n",
    "from scipy.io import loadmat\n"
   ]
  },
  {
   "cell_type": "markdown",
   "metadata": {},
   "source": [
    "# Import Pyod Packages and Methods"
   ]
  },
  {
   "cell_type": "code",
   "execution_count": 6,
   "metadata": {},
   "outputs": [],
   "source": [
    "from pyod.models.pca import PCA\n",
    "from pyod.models.mcd import MCD\n",
    "from pyod.models.ocsvm import OCSVM\n",
    "from pyod.models.lof import LOF\n",
    "from pyod.models.cblof import CBLOF\n",
    "from pyod.models.knn import KNN\n",
    "from pyod.models.hbos import HBOS\n",
    "from pyod.models.abod import ABOD\n",
    "from pyod.models.iforest import IForest\n",
    "from pyod.models.feature_bagging import FeatureBagging\n"
   ]
  },
  {
   "cell_type": "markdown",
   "metadata": {},
   "source": [
    "# Import Metrics Packages"
   ]
  },
  {
   "cell_type": "code",
   "execution_count": 8,
   "metadata": {},
   "outputs": [],
   "source": [
    "from pyod.utils.utility import standardizer\n",
    "from pyod.utils.utility import precision_n_scores\n",
    "from sklearn.metrics import roc_auc_score"
   ]
  },
  {
   "cell_type": "markdown",
   "metadata": {},
   "source": [
    "# Define data file and read X and y"
   ]
  },
  {
   "cell_type": "code",
   "execution_count": 9,
   "metadata": {},
   "outputs": [],
   "source": [
    "mat_file_list = [\n",
    "    'arrhythmia.mat',\n",
    "    'cardio.mat',\n",
    "    'glass.mat',\n",
    "    'ionosphere.mat',\n",
    "    'letter.mat',\n",
    "    'lympho.mat',\n",
    "    'mnist.mat',\n",
    "    'musk.mat',\n",
    "    'optdigits.mat',\n",
    "    'pendigits.mat',\n",
    "    'pima.mat',\n",
    "    'satellite.mat',\n",
    "    'satimage-2.mat',\n",
    "    'shuttle.mat',\n",
    "    'vertebral.mat',\n",
    "    'vowels.mat',\n",
    "    'wbc.mat'\n",
    "]"
   ]
  },
  {
   "cell_type": "markdown",
   "metadata": {},
   "source": [
    "# Define nine outlier detection tools to be compared"
   ]
  },
  {
   "cell_type": "code",
   "execution_count": 12,
   "metadata": {},
   "outputs": [],
   "source": [
    "df_columns = ['Data', '#Samples', '# Dimensions', 'Outlier Perc', 'ABOD', 'CBLOF', 'FB', 'HBOS', 'IForest', 'KNN', 'LOF', 'MCD', 'OCSVM', 'PCA']\n",
    "\n",
    "roc_df = pd.DataFrame(columns = df_columns)\n",
    "prn_df = pd.DataFrame(columns = df_columns)\n",
    "time_df = pd.DataFrame(columns = df_columns)"
   ]
  },
  {
   "cell_type": "markdown",
   "metadata": {},
   "source": [
    "# Input(Independenent) Feature Shape in Mat file format"
   ]
  },
  {
   "cell_type": "code",
   "execution_count": 15,
   "metadata": {},
   "outputs": [
    {
     "data": {
      "text/plain": [
       "(numpy.ndarray, (452, 274))"
      ]
     },
     "execution_count": 15,
     "metadata": {},
     "output_type": "execute_result"
    }
   ],
   "source": [
    "data = loadmat('Anamoly_detec_data/arrhythmia.mat')\n",
    "type(data['X']),data['X'].shape"
   ]
  },
  {
   "cell_type": "markdown",
   "metadata": {},
   "source": [
    "# Dependent/ Target/ Output Feature shape"
   ]
  },
  {
   "cell_type": "code",
   "execution_count": 17,
   "metadata": {},
   "outputs": [
    {
     "data": {
      "text/plain": [
       "(numpy.ndarray, (452, 1))"
      ]
     },
     "execution_count": 17,
     "metadata": {},
     "output_type": "execute_result"
    }
   ],
   "source": [
    "type(data['y']),data['y'].shape"
   ]
  },
  {
   "cell_type": "markdown",
   "metadata": {},
   "source": [
    "# ROC (Region of Characterstics) Performance Evulotion table"
   ]
  },
  {
   "cell_type": "code",
   "execution_count": 19,
   "metadata": {},
   "outputs": [
    {
     "data": {
      "text/html": [
       "<div>\n",
       "<style scoped>\n",
       "    .dataframe tbody tr th:only-of-type {\n",
       "        vertical-align: middle;\n",
       "    }\n",
       "\n",
       "    .dataframe tbody tr th {\n",
       "        vertical-align: top;\n",
       "    }\n",
       "\n",
       "    .dataframe thead th {\n",
       "        text-align: right;\n",
       "    }\n",
       "</style>\n",
       "<table border=\"1\" class=\"dataframe\">\n",
       "  <thead>\n",
       "    <tr style=\"text-align: right;\">\n",
       "      <th></th>\n",
       "      <th>Data</th>\n",
       "      <th>#Samples</th>\n",
       "      <th># Dimensions</th>\n",
       "      <th>Outlier Perc</th>\n",
       "      <th>ABOD</th>\n",
       "      <th>CBLOF</th>\n",
       "      <th>FB</th>\n",
       "      <th>HBOS</th>\n",
       "      <th>IForest</th>\n",
       "      <th>KNN</th>\n",
       "      <th>LOF</th>\n",
       "      <th>MCD</th>\n",
       "      <th>OCSVM</th>\n",
       "      <th>PCA</th>\n",
       "    </tr>\n",
       "  </thead>\n",
       "  <tbody>\n",
       "  </tbody>\n",
       "</table>\n",
       "</div>"
      ],
      "text/plain": [
       "Empty DataFrame\n",
       "Columns: [Data, #Samples, # Dimensions, Outlier Perc, ABOD, CBLOF, FB, HBOS, IForest, KNN, LOF, MCD, OCSVM, PCA]\n",
       "Index: []"
      ]
     },
     "execution_count": 19,
     "metadata": {},
     "output_type": "execute_result"
    }
   ],
   "source": [
    "roc_df"
   ]
  },
  {
   "cell_type": "markdown",
   "metadata": {},
   "source": [
    "# precision_n_scores - Performance evulotion table"
   ]
  },
  {
   "cell_type": "code",
   "execution_count": 21,
   "metadata": {},
   "outputs": [
    {
     "data": {
      "text/html": [
       "<div>\n",
       "<style scoped>\n",
       "    .dataframe tbody tr th:only-of-type {\n",
       "        vertical-align: middle;\n",
       "    }\n",
       "\n",
       "    .dataframe tbody tr th {\n",
       "        vertical-align: top;\n",
       "    }\n",
       "\n",
       "    .dataframe thead th {\n",
       "        text-align: right;\n",
       "    }\n",
       "</style>\n",
       "<table border=\"1\" class=\"dataframe\">\n",
       "  <thead>\n",
       "    <tr style=\"text-align: right;\">\n",
       "      <th></th>\n",
       "      <th>Data</th>\n",
       "      <th>#Samples</th>\n",
       "      <th># Dimensions</th>\n",
       "      <th>Outlier Perc</th>\n",
       "      <th>ABOD</th>\n",
       "      <th>CBLOF</th>\n",
       "      <th>FB</th>\n",
       "      <th>HBOS</th>\n",
       "      <th>IForest</th>\n",
       "      <th>KNN</th>\n",
       "      <th>LOF</th>\n",
       "      <th>MCD</th>\n",
       "      <th>OCSVM</th>\n",
       "      <th>PCA</th>\n",
       "    </tr>\n",
       "  </thead>\n",
       "  <tbody>\n",
       "  </tbody>\n",
       "</table>\n",
       "</div>"
      ],
      "text/plain": [
       "Empty DataFrame\n",
       "Columns: [Data, #Samples, # Dimensions, Outlier Perc, ABOD, CBLOF, FB, HBOS, IForest, KNN, LOF, MCD, OCSVM, PCA]\n",
       "Index: []"
      ]
     },
     "execution_count": 21,
     "metadata": {},
     "output_type": "execute_result"
    }
   ],
   "source": [
    "prn_df"
   ]
  },
  {
   "cell_type": "markdown",
   "metadata": {},
   "source": [
    "# Time dataframe"
   ]
  },
  {
   "cell_type": "code",
   "execution_count": 23,
   "metadata": {},
   "outputs": [
    {
     "data": {
      "text/html": [
       "<div>\n",
       "<style scoped>\n",
       "    .dataframe tbody tr th:only-of-type {\n",
       "        vertical-align: middle;\n",
       "    }\n",
       "\n",
       "    .dataframe tbody tr th {\n",
       "        vertical-align: top;\n",
       "    }\n",
       "\n",
       "    .dataframe thead th {\n",
       "        text-align: right;\n",
       "    }\n",
       "</style>\n",
       "<table border=\"1\" class=\"dataframe\">\n",
       "  <thead>\n",
       "    <tr style=\"text-align: right;\">\n",
       "      <th></th>\n",
       "      <th>Data</th>\n",
       "      <th>#Samples</th>\n",
       "      <th># Dimensions</th>\n",
       "      <th>Outlier Perc</th>\n",
       "      <th>ABOD</th>\n",
       "      <th>CBLOF</th>\n",
       "      <th>FB</th>\n",
       "      <th>HBOS</th>\n",
       "      <th>IForest</th>\n",
       "      <th>KNN</th>\n",
       "      <th>LOF</th>\n",
       "      <th>MCD</th>\n",
       "      <th>OCSVM</th>\n",
       "      <th>PCA</th>\n",
       "    </tr>\n",
       "  </thead>\n",
       "  <tbody>\n",
       "  </tbody>\n",
       "</table>\n",
       "</div>"
      ],
      "text/plain": [
       "Empty DataFrame\n",
       "Columns: [Data, #Samples, # Dimensions, Outlier Perc, ABOD, CBLOF, FB, HBOS, IForest, KNN, LOF, MCD, OCSVM, PCA]\n",
       "Index: []"
      ]
     },
     "execution_count": 23,
     "metadata": {},
     "output_type": "execute_result"
    }
   ],
   "source": [
    "time_df"
   ]
  },
  {
   "cell_type": "markdown",
   "metadata": {},
   "source": [
    "# Exploring all Mat files"
   ]
  },
  {
   "cell_type": "code",
   "execution_count": 47,
   "metadata": {},
   "outputs": [
    {
     "name": "stdout",
     "output_type": "stream",
     "text": [
      "\n",
      "...Processing arrhythmia.mat ....\n",
      "ABOD ROC:0.7687, precision @ rank n:0.3571, execution time: 0.5766s\n",
      "CBLOF ROC:0.7789, precision @ rank n:0.4643, execution time: 0.2618s\n",
      "FeatureBagging ROC:0.7796, precision @ rank n:0.4643, execution time: 0.6266s\n",
      "HBOS ROC:0.8511, precision @ rank n:0.5714, execution time: 0.0969s\n"
     ]
    },
    {
     "name": "stderr",
     "output_type": "stream",
     "text": [
      "C:\\Users\\rites\\Anaconda3\\lib\\site-packages\\sklearn\\ensemble\\iforest.py:247: FutureWarning: behaviour=\"old\" is deprecated and will be removed in version 0.22. Please use behaviour=\"new\", which makes the decision_function change to match other anomaly detection algorithm API.\n",
      "  FutureWarning)\n"
     ]
    },
    {
     "name": "stdout",
     "output_type": "stream",
     "text": [
      "Isolation Forest ROC:0.8637, precision @ rank n:0.6071, execution time: 0.4794s\n",
      "KNN ROC:0.782, precision @ rank n:0.5, execution time: 0.0919s\n",
      "LOF ROC:0.7787, precision @ rank n:0.4643, execution time: 0.0674s\n"
     ]
    },
    {
     "name": "stderr",
     "output_type": "stream",
     "text": [
      "C:\\Users\\rites\\Anaconda3\\lib\\site-packages\\sklearn\\covariance\\robust_covariance.py:644: UserWarning: The covariance matrix associated to your dataset is not full rank\n",
      "  warnings.warn(\"The covariance matrix associated to your dataset \"\n"
     ]
    },
    {
     "name": "stdout",
     "output_type": "stream",
     "text": [
      "MCD ROC:0.8228, precision @ rank n:0.4286, execution time: 1.0993s\n",
      "OCSVM ROC:0.7986, precision @ rank n:0.5, execution time: 0.044s\n",
      "PCA ROC:0.8, precision @ rank n:0.5, execution time: 0.068s\n",
      "\n",
      "...Processing cardio.mat ....\n",
      "ABOD ROC:0.5892, precision @ rank n:0.1918, execution time: 0.6846s\n",
      "CBLOF ROC:0.8845, precision @ rank n:0.4932, execution time: 0.2149s\n",
      "FeatureBagging ROC:0.6385, precision @ rank n:0.1781, execution time: 1.1763s\n",
      "HBOS ROC:0.8373, precision @ rank n:0.4521, execution time: 0.027s\n"
     ]
    },
    {
     "name": "stderr",
     "output_type": "stream",
     "text": [
      "C:\\Users\\rites\\Anaconda3\\lib\\site-packages\\sklearn\\ensemble\\iforest.py:247: FutureWarning: behaviour=\"old\" is deprecated and will be removed in version 0.22. Please use behaviour=\"new\", which makes the decision_function change to match other anomaly detection algorithm API.\n",
      "  FutureWarning)\n"
     ]
    },
    {
     "name": "stdout",
     "output_type": "stream",
     "text": [
      "Isolation Forest ROC:0.951, precision @ rank n:0.6027, execution time: 0.9384s\n",
      "KNN ROC:0.734, precision @ rank n:0.3562, execution time: 0.3308s\n",
      "LOF ROC:0.588, precision @ rank n:0.1507, execution time: 0.1739s\n"
     ]
    },
    {
     "name": "stderr",
     "output_type": "stream",
     "text": [
      "C:\\Users\\rites\\Anaconda3\\lib\\site-packages\\sklearn\\covariance\\robust_covariance.py:644: UserWarning: The covariance matrix associated to your dataset is not full rank\n",
      "  warnings.warn(\"The covariance matrix associated to your dataset \"\n"
     ]
    },
    {
     "name": "stdout",
     "output_type": "stream",
     "text": [
      "MCD ROC:0.8534, precision @ rank n:0.411, execution time: 1.0883s\n",
      "OCSVM ROC:0.9478, precision @ rank n:0.5342, execution time: 0.1299s\n",
      "PCA ROC:0.9616, precision @ rank n:0.6849, execution time: 0.028s\n",
      "\n",
      "...Processing glass.mat ....\n",
      "ABOD ROC:0.6951, precision @ rank n:0.25, execution time: 0.0979s\n",
      "CBLOF ROC:0.811, precision @ rank n:0.25, execution time: 0.068s\n",
      "FeatureBagging ROC:0.7073, precision @ rank n:0.25, execution time: 0.06s\n",
      "HBOS ROC:0.7073, precision @ rank n:0.0, execution time: 0.003s\n"
     ]
    },
    {
     "name": "stderr",
     "output_type": "stream",
     "text": [
      "C:\\Users\\rites\\Anaconda3\\lib\\site-packages\\sklearn\\ensemble\\iforest.py:247: FutureWarning: behaviour=\"old\" is deprecated and will be removed in version 0.22. Please use behaviour=\"new\", which makes the decision_function change to match other anomaly detection algorithm API.\n",
      "  FutureWarning)\n"
     ]
    },
    {
     "name": "stdout",
     "output_type": "stream",
     "text": [
      "Isolation Forest ROC:0.7134, precision @ rank n:0.25, execution time: 0.2918s\n",
      "KNN ROC:0.8384, precision @ rank n:0.25, execution time: 0.012s\n",
      "LOF ROC:0.7043, precision @ rank n:0.25, execution time: 0.005s\n",
      "MCD ROC:0.8293, precision @ rank n:0.0, execution time: 0.0755s\n",
      "OCSVM ROC:0.6585, precision @ rank n:0.25, execution time: 0.001s\n",
      "PCA ROC:0.686, precision @ rank n:0.25, execution time: 0.0078s\n",
      "\n",
      "...Processing ionosphere.mat ....\n"
     ]
    },
    {
     "name": "stderr",
     "output_type": "stream",
     "text": [
      "C:\\Users\\rites\\Anaconda3\\lib\\site-packages\\sklearn\\covariance\\robust_covariance.py:170: RuntimeWarning: Determinant has increased; this should not happen: log(det) > log(previous_det) (-30.655006608732311 > -93.861045791740864). You may want to try with a higher value of support_fraction (current value: 0.539).\n",
      "  RuntimeWarning)\n",
      "C:\\Users\\rites\\Anaconda3\\lib\\site-packages\\sklearn\\covariance\\robust_covariance.py:170: RuntimeWarning: Determinant has increased; this should not happen: log(det) > log(previous_det) (-30.670928469655035 > -93.880177910821871). You may want to try with a higher value of support_fraction (current value: 0.539).\n",
      "  RuntimeWarning)\n",
      "C:\\Users\\rites\\Anaconda3\\lib\\site-packages\\sklearn\\covariance\\robust_covariance.py:170: RuntimeWarning: Determinant has increased; this should not happen: log(det) > log(previous_det) (-30.675674891469374 > -93.883894139025401). You may want to try with a higher value of support_fraction (current value: 0.539).\n",
      "  RuntimeWarning)\n",
      "C:\\Users\\rites\\Anaconda3\\lib\\site-packages\\sklearn\\covariance\\robust_covariance.py:170: RuntimeWarning: Determinant has increased; this should not happen: log(det) > log(previous_det) (-30.651811558979503 > -93.673162182880432). You may want to try with a higher value of support_fraction (current value: 0.539).\n",
      "  RuntimeWarning)\n"
     ]
    },
    {
     "name": "stdout",
     "output_type": "stream",
     "text": [
      "ABOD ROC:0.9181, precision @ rank n:0.8431, execution time: 0.1499s\n",
      "CBLOF ROC:0.9176, precision @ rank n:0.8039, execution time: 0.068s\n",
      "FeatureBagging ROC:0.9303, precision @ rank n:0.8039, execution time: 0.076s\n",
      "HBOS ROC:0.6052, precision @ rank n:0.3922, execution time: 0.013s\n"
     ]
    },
    {
     "name": "stderr",
     "output_type": "stream",
     "text": [
      "C:\\Users\\rites\\Anaconda3\\lib\\site-packages\\sklearn\\ensemble\\iforest.py:247: FutureWarning: behaviour=\"old\" is deprecated and will be removed in version 0.22. Please use behaviour=\"new\", which makes the decision_function change to match other anomaly detection algorithm API.\n",
      "  FutureWarning)\n"
     ]
    },
    {
     "name": "stdout",
     "output_type": "stream",
     "text": [
      "Isolation Forest ROC:0.8516, precision @ rank n:0.6078, execution time: 0.3518s\n",
      "KNN ROC:0.932, precision @ rank n:0.8824, execution time: 0.031s\n",
      "LOF ROC:0.9227, precision @ rank n:0.7843, execution time: 0.008s\n",
      "MCD ROC:0.9669, precision @ rank n:0.8627, execution time: 0.1279s\n",
      "OCSVM ROC:0.8257, precision @ rank n:0.6863, execution time: 0.01s\n",
      "PCA ROC:0.7941, precision @ rank n:0.5686, execution time: 0.004s\n",
      "\n",
      "...Processing letter.mat ....\n",
      "ABOD ROC:0.8783, precision @ rank n:0.4375, execution time: 0.7056s\n",
      "CBLOF ROC:0.7783, precision @ rank n:0.1875, execution time: 0.2109s\n",
      "FeatureBagging ROC:0.8947, precision @ rank n:0.4062, execution time: 1.2352s\n",
      "HBOS ROC:0.6063, precision @ rank n:0.0938, execution time: 0.014s\n"
     ]
    },
    {
     "name": "stderr",
     "output_type": "stream",
     "text": [
      "C:\\Users\\rites\\Anaconda3\\lib\\site-packages\\sklearn\\ensemble\\iforest.py:247: FutureWarning: behaviour=\"old\" is deprecated and will be removed in version 0.22. Please use behaviour=\"new\", which makes the decision_function change to match other anomaly detection algorithm API.\n",
      "  FutureWarning)\n"
     ]
    },
    {
     "name": "stdout",
     "output_type": "stream",
     "text": [
      "Isolation Forest ROC:0.6279, precision @ rank n:0.0625, execution time: 0.4447s\n",
      "KNN ROC:0.8573, precision @ rank n:0.3125, execution time: 0.1869s\n",
      "LOF ROC:0.8765, precision @ rank n:0.3438, execution time: 0.1049s\n",
      "MCD ROC:0.8061, precision @ rank n:0.1875, execution time: 2.4145s\n",
      "OCSVM ROC:0.5927, precision @ rank n:0.125, execution time: 0.1399s\n",
      "PCA ROC:0.5216, precision @ rank n:0.125, execution time: 0.013s\n",
      "\n",
      "...Processing lympho.mat ....\n",
      "ABOD ROC:0.9831, precision @ rank n:0.0, execution time: 0.079s\n",
      "CBLOF ROC:1.0, precision @ rank n:1.0, execution time: 0.0969s\n",
      "FeatureBagging ROC:1.0, precision @ rank n:1.0, execution time: 0.059s\n",
      "HBOS ROC:1.0, precision @ rank n:1.0, execution time: 0.009s\n"
     ]
    },
    {
     "name": "stderr",
     "output_type": "stream",
     "text": [
      "C:\\Users\\rites\\Anaconda3\\lib\\site-packages\\sklearn\\ensemble\\iforest.py:247: FutureWarning: behaviour=\"old\" is deprecated and will be removed in version 0.22. Please use behaviour=\"new\", which makes the decision_function change to match other anomaly detection algorithm API.\n",
      "  FutureWarning)\n"
     ]
    },
    {
     "name": "stdout",
     "output_type": "stream",
     "text": [
      "Isolation Forest ROC:1.0, precision @ rank n:1.0, execution time: 0.4437s\n",
      "KNN ROC:1.0, precision @ rank n:1.0, execution time: 0.015s\n",
      "LOF ROC:1.0, precision @ rank n:1.0, execution time: 0.004s\n",
      "MCD ROC:1.0, precision @ rank n:1.0, execution time: 0.1249s\n",
      "OCSVM ROC:1.0, precision @ rank n:1.0, execution time: 0.003s\n",
      "PCA ROC:1.0, precision @ rank n:1.0, execution time: 0.004s\n",
      "\n",
      "...Processing "
     ]
    },
    {
     "name": "stderr",
     "output_type": "stream",
     "text": [
      "C:\\Users\\rites\\Anaconda3\\lib\\site-packages\\sklearn\\covariance\\robust_covariance.py:170: RuntimeWarning: Determinant has increased; this should not happen: log(det) > log(previous_det) (-367.647959065986925 > -368.052507122073337). You may want to try with a higher value of support_fraction (current value: 0.614).\n",
      "  RuntimeWarning)\n",
      "C:\\Users\\rites\\Anaconda3\\lib\\site-packages\\sklearn\\covariance\\robust_covariance.py:170: RuntimeWarning: Determinant has increased; this should not happen: log(det) > log(previous_det) (-366.975394106088743 > -472.872128998923358). You may want to try with a higher value of support_fraction (current value: 0.614).\n",
      "  RuntimeWarning)\n",
      "C:\\Users\\rites\\Anaconda3\\lib\\site-packages\\sklearn\\covariance\\robust_covariance.py:170: RuntimeWarning: Determinant has increased; this should not happen: log(det) > log(previous_det) (-300.835377049859233 > -474.422207364875305). You may want to try with a higher value of support_fraction (current value: 0.614).\n",
      "  RuntimeWarning)\n",
      "C:\\Users\\rites\\Anaconda3\\lib\\site-packages\\sklearn\\covariance\\robust_covariance.py:170: RuntimeWarning: Determinant has increased; this should not happen: log(det) > log(previous_det) (-369.069792164219677 > -473.671872548020588). You may want to try with a higher value of support_fraction (current value: 0.614).\n",
      "  RuntimeWarning)\n",
      "C:\\Users\\rites\\Anaconda3\\lib\\site-packages\\sklearn\\covariance\\robust_covariance.py:170: RuntimeWarning: Determinant has increased; this should not happen: log(det) > log(previous_det) (-369.790984386757827 > -369.961632957718052). You may want to try with a higher value of support_fraction (current value: 0.614).\n",
      "  RuntimeWarning)\n",
      "C:\\Users\\rites\\Anaconda3\\lib\\site-packages\\sklearn\\covariance\\robust_covariance.py:170: RuntimeWarning: Determinant has increased; this should not happen: log(det) > log(previous_det) (-297.166895967088976 > -475.407465106584823). You may want to try with a higher value of support_fraction (current value: 0.614).\n",
      "  RuntimeWarning)\n",
      "C:\\Users\\rites\\Anaconda3\\lib\\site-packages\\sklearn\\covariance\\robust_covariance.py:170: RuntimeWarning: Determinant has increased; this should not happen: log(det) > log(previous_det) (-368.932557772487371 > -474.882991914501247). You may want to try with a higher value of support_fraction (current value: 0.614).\n",
      "  RuntimeWarning)\n",
      "C:\\Users\\rites\\Anaconda3\\lib\\site-packages\\sklearn\\covariance\\robust_covariance.py:170: RuntimeWarning: Determinant has increased; this should not happen: log(det) > log(previous_det) (-368.821942352618635 > -369.475336610927798). You may want to try with a higher value of support_fraction (current value: 0.614).\n",
      "  RuntimeWarning)\n",
      "C:\\Users\\rites\\Anaconda3\\lib\\site-packages\\sklearn\\covariance\\robust_covariance.py:170: RuntimeWarning: Determinant has increased; this should not happen: log(det) > log(previous_det) (-368.158079587821419 > -473.168169488540912). You may want to try with a higher value of support_fraction (current value: 0.614).\n",
      "  RuntimeWarning)\n",
      "C:\\Users\\rites\\Anaconda3\\lib\\site-packages\\sklearn\\covariance\\robust_covariance.py:170: RuntimeWarning: Determinant has increased; this should not happen: log(det) > log(previous_det) (-301.771878400774995 > -368.972906894116704). You may want to try with a higher value of support_fraction (current value: 0.614).\n",
      "  RuntimeWarning)\n",
      "C:\\Users\\rites\\Anaconda3\\lib\\site-packages\\sklearn\\covariance\\robust_covariance.py:170: RuntimeWarning: Determinant has increased; this should not happen: log(det) > log(previous_det) (-370.186504500847889 > -474.919941108720423). You may want to try with a higher value of support_fraction (current value: 0.614).\n",
      "  RuntimeWarning)\n"
     ]
    },
    {
     "name": "stdout",
     "output_type": "stream",
     "text": [
      "mnist.mat ....\n",
      "ABOD ROC:0.7628, precision @ rank n:0.3367, execution time: 11.4239s\n",
      "CBLOF ROC:0.8389, precision @ rank n:0.3912, execution time: 1.7279s\n",
      "FeatureBagging ROC:0.7157, precision @ rank n:0.3741, execution time: 74.8768s\n",
      "HBOS ROC:0.5766, precision @ rank n:0.1361, execution time: 0.1489s\n"
     ]
    },
    {
     "name": "stderr",
     "output_type": "stream",
     "text": [
      "C:\\Users\\rites\\Anaconda3\\lib\\site-packages\\sklearn\\ensemble\\iforest.py:247: FutureWarning: behaviour=\"old\" is deprecated and will be removed in version 0.22. Please use behaviour=\"new\", which makes the decision_function change to match other anomaly detection algorithm API.\n",
      "  FutureWarning)\n"
     ]
    },
    {
     "name": "stdout",
     "output_type": "stream",
     "text": [
      "Isolation Forest ROC:0.7915, precision @ rank n:0.2687, execution time: 4.8727s\n",
      "KNN ROC:0.8498, precision @ rank n:0.432, execution time: 10.0817s\n",
      "LOF ROC:0.7195, precision @ rank n:0.3673, execution time: 13.4412s\n"
     ]
    },
    {
     "name": "stderr",
     "output_type": "stream",
     "text": [
      "C:\\Users\\rites\\Anaconda3\\lib\\site-packages\\sklearn\\covariance\\robust_covariance.py:644: UserWarning: The covariance matrix associated to your dataset is not full rank\n",
      "  warnings.warn(\"The covariance matrix associated to your dataset \"\n"
     ]
    },
    {
     "name": "stdout",
     "output_type": "stream",
     "text": [
      "MCD ROC:0.8713, precision @ rank n:0.2653, execution time: 9.4811s\n",
      "OCSVM ROC:0.854, precision @ rank n:0.3946, execution time: 6.9063s\n",
      "PCA ROC:0.8534, precision @ rank n:0.3878, execution time: 0.2181s\n",
      "\n",
      "...Processing musk.mat ....\n",
      "ABOD ROC:0.2161, precision @ rank n:0.1, execution time: 3.5624s\n",
      "CBLOF ROC:1.0, precision @ rank n:1.0, execution time: 0.5377s\n",
      "FeatureBagging ROC:0.473, precision @ rank n:0.125, execution time: 26.2046s\n",
      "HBOS ROC:0.9999, precision @ rank n:0.975, execution time: 0.1039s\n"
     ]
    },
    {
     "name": "stderr",
     "output_type": "stream",
     "text": [
      "C:\\Users\\rites\\Anaconda3\\lib\\site-packages\\sklearn\\ensemble\\iforest.py:247: FutureWarning: behaviour=\"old\" is deprecated and will be removed in version 0.22. Please use behaviour=\"new\", which makes the decision_function change to match other anomaly detection algorithm API.\n",
      "  FutureWarning)\n"
     ]
    },
    {
     "name": "stdout",
     "output_type": "stream",
     "text": [
      "Isolation Forest ROC:1.0, precision @ rank n:1.0, execution time: 2.037s\n",
      "KNN ROC:0.8009, precision @ rank n:0.175, execution time: 2.38s\n",
      "LOF ROC:0.4629, precision @ rank n:0.125, execution time: 2.1205s\n",
      "MCD ROC:1.0, precision @ rank n:1.0, execution time: 45.3393s\n",
      "OCSVM ROC:1.0, precision @ rank n:1.0, execution time: 1.3562s\n",
      "PCA ROC:1.0, precision @ rank n:1.0, execution time: 0.1829s\n",
      "\n",
      "...Processing optdigits.mat ....\n",
      "ABOD ROC:0.4894, precision @ rank n:0.0152, execution time: 5.3887s\n",
      "CBLOF ROC:0.7901, precision @ rank n:0.0, execution time: 1.2652s\n",
      "FeatureBagging ROC:0.5062, precision @ rank n:0.0303, execution time: 20.8161s\n",
      "HBOS ROC:0.8774, precision @ rank n:0.2121, execution time: 0.047s\n"
     ]
    },
    {
     "name": "stderr",
     "output_type": "stream",
     "text": [
      "C:\\Users\\rites\\Anaconda3\\lib\\site-packages\\sklearn\\ensemble\\iforest.py:247: FutureWarning: behaviour=\"old\" is deprecated and will be removed in version 0.22. Please use behaviour=\"new\", which makes the decision_function change to match other anomaly detection algorithm API.\n",
      "  FutureWarning)\n"
     ]
    },
    {
     "name": "stdout",
     "output_type": "stream",
     "text": [
      "Isolation Forest ROC:0.686, precision @ rank n:0.0303, execution time: 1.584s\n",
      "KNN ROC:0.406, precision @ rank n:0.0, execution time: 2.5794s\n",
      "LOF ROC:0.5277, precision @ rank n:0.0303, execution time: 2.0487s\n"
     ]
    },
    {
     "name": "stderr",
     "output_type": "stream",
     "text": [
      "C:\\Users\\rites\\Anaconda3\\lib\\site-packages\\sklearn\\covariance\\robust_covariance.py:644: UserWarning: The covariance matrix associated to your dataset is not full rank\n",
      "  warnings.warn(\"The covariance matrix associated to your dataset \"\n"
     ]
    },
    {
     "name": "stdout",
     "output_type": "stream",
     "text": [
      "MCD ROC:0.3822, precision @ rank n:0.0, execution time: 1.7558s\n",
      "OCSVM ROC:0.5171, precision @ rank n:0.0, execution time: 1.7659s\n",
      "PCA ROC:0.526, precision @ rank n:0.0, execution time: 0.058s\n",
      "\n",
      "...Processing pendigits.mat ....\n",
      "ABOD ROC:0.667, precision @ rank n:0.0526, execution time: 3.266s\n",
      "CBLOF ROC:0.8082, precision @ rank n:0.1579, execution time: 0.3598s\n",
      "FeatureBagging ROC:0.4889, precision @ rank n:0.0526, execution time: 4.9899s\n",
      "HBOS ROC:0.9348, precision @ rank n:0.2632, execution time: 0.012s\n"
     ]
    },
    {
     "name": "stderr",
     "output_type": "stream",
     "text": [
      "C:\\Users\\rites\\Anaconda3\\lib\\site-packages\\sklearn\\ensemble\\iforest.py:247: FutureWarning: behaviour=\"old\" is deprecated and will be removed in version 0.22. Please use behaviour=\"new\", which makes the decision_function change to match other anomaly detection algorithm API.\n",
      "  FutureWarning)\n"
     ]
    },
    {
     "name": "stdout",
     "output_type": "stream",
     "text": [
      "Isolation Forest ROC:0.939, precision @ rank n:0.3333, execution time: 0.8954s\n",
      "KNN ROC:0.7371, precision @ rank n:0.0702, execution time: 1.1716s\n",
      "LOF ROC:0.4965, precision @ rank n:0.0702, execution time: 1.0284s\n",
      "MCD ROC:0.8204, precision @ rank n:0.0877, execution time: 2.8133s\n",
      "OCSVM ROC:0.9235, precision @ rank n:0.3158, execution time: 1.5331s\n",
      "PCA ROC:0.9309, precision @ rank n:0.3158, execution time: 0.0104s\n",
      "\n",
      "...Processing pima.mat ....\n",
      "ABOD ROC:0.7163, precision @ rank n:0.5253, execution time: 0.2958s\n",
      "CBLOF ROC:0.67, precision @ rank n:0.4949, execution time: 0.2129s\n",
      "FeatureBagging ROC:0.6448, precision @ rank n:0.4444, execution time: 0.1309s\n",
      "HBOS ROC:0.711, precision @ rank n:0.5354, execution time: 0.004s\n"
     ]
    },
    {
     "name": "stderr",
     "output_type": "stream",
     "text": [
      "C:\\Users\\rites\\Anaconda3\\lib\\site-packages\\sklearn\\ensemble\\iforest.py:247: FutureWarning: behaviour=\"old\" is deprecated and will be removed in version 0.22. Please use behaviour=\"new\", which makes the decision_function change to match other anomaly detection algorithm API.\n",
      "  FutureWarning)\n"
     ]
    },
    {
     "name": "stdout",
     "output_type": "stream",
     "text": [
      "Isolation Forest ROC:0.6829, precision @ rank n:0.5253, execution time: 0.3118s\n",
      "KNN ROC:0.7395, precision @ rank n:0.5859, execution time: 0.075s\n",
      "LOF ROC:0.6574, precision @ rank n:0.4646, execution time: 0.027s\n",
      "MCD ROC:0.7175, precision @ rank n:0.5152, execution time: 0.0979s\n",
      "OCSVM ROC:0.6561, precision @ rank n:0.5051, execution time: 0.021s\n",
      "PCA ROC:0.6762, precision @ rank n:0.5354, execution time: 0.003s\n",
      "\n",
      "...Processing satellite.mat ....\n",
      "ABOD ROC:0.5653, precision @ rank n:0.3962, execution time: 4.0945s\n",
      "CBLOF ROC:0.7241, precision @ rank n:0.5412, execution time: 0.5706s\n",
      "FeatureBagging ROC:0.572, precision @ rank n:0.4, execution time: 11.4229s\n",
      "HBOS ROC:0.7486, precision @ rank n:0.57, execution time: 0.041s\n"
     ]
    },
    {
     "name": "stderr",
     "output_type": "stream",
     "text": [
      "C:\\Users\\rites\\Anaconda3\\lib\\site-packages\\sklearn\\ensemble\\iforest.py:247: FutureWarning: behaviour=\"old\" is deprecated and will be removed in version 0.22. Please use behaviour=\"new\", which makes the decision_function change to match other anomaly detection algorithm API.\n",
      "  FutureWarning)\n"
     ]
    },
    {
     "name": "stdout",
     "output_type": "stream",
     "text": [
      "Isolation Forest ROC:0.6838, precision @ rank n:0.5812, execution time: 1.2932s\n",
      "KNN ROC:0.6853, precision @ rank n:0.4988, execution time: 1.9728s\n",
      "LOF ROC:0.572, precision @ rank n:0.395, execution time: 1.571s\n",
      "MCD ROC:0.8055, precision @ rank n:0.6762, execution time: 3.9965s\n",
      "OCSVM ROC:0.6478, precision @ rank n:0.5225, execution time: 2.8782s\n",
      "PCA ROC:0.5923, precision @ rank n:0.465, execution time: 0.1419s\n",
      "\n",
      "...Processing satimage-2.mat ....\n",
      "ABOD ROC:0.8432, precision @ rank n:0.2333, execution time: 21.1379s\n",
      "CBLOF ROC:0.9998, precision @ rank n:0.9333, execution time: 0.9574s\n",
      "FeatureBagging ROC:0.5235, precision @ rank n:0.1667, execution time: 12826.9263s\n",
      "HBOS ROC:0.9784, precision @ rank n:0.6, execution time: 0.039s\n"
     ]
    },
    {
     "name": "stderr",
     "output_type": "stream",
     "text": [
      "C:\\Users\\rites\\Anaconda3\\lib\\site-packages\\sklearn\\ensemble\\iforest.py:247: FutureWarning: behaviour=\"old\" is deprecated and will be removed in version 0.22. Please use behaviour=\"new\", which makes the decision_function change to match other anomaly detection algorithm API.\n",
      "  FutureWarning)\n"
     ]
    },
    {
     "name": "stdout",
     "output_type": "stream",
     "text": [
      "Isolation Forest ROC:0.9955, precision @ rank n:0.8667, execution time: 1.7279s\n",
      "KNN ROC:0.9515, precision @ rank n:0.4333, execution time: 1.4141s\n",
      "LOF ROC:0.5257, precision @ rank n:0.1667, execution time: 1.7519s\n",
      "MCD ROC:0.9963, precision @ rank n:0.6667, execution time: 5.7145s\n",
      "OCSVM ROC:0.9997, precision @ rank n:0.9, execution time: 2.0667s\n",
      "PCA ROC:0.9816, precision @ rank n:0.7333, execution time: 0.031s\n",
      "\n",
      "...Processing shuttle.mat ....\n",
      "ABOD ROC:0.6171, precision @ rank n:0.2003, execution time: 32.7257s\n",
      "CBLOF ROC:0.6273, precision @ rank n:0.2025, execution time: 1.555s\n",
      "FeatureBagging ROC:0.4725, precision @ rank n:0.0257, execution time: 240.265s\n",
      "HBOS ROC:0.9871, precision @ rank n:0.9985, execution time: 0.071s\n"
     ]
    },
    {
     "name": "stderr",
     "output_type": "stream",
     "text": [
      "C:\\Users\\rites\\Anaconda3\\lib\\site-packages\\sklearn\\ensemble\\iforest.py:247: FutureWarning: behaviour=\"old\" is deprecated and will be removed in version 0.22. Please use behaviour=\"new\", which makes the decision_function change to match other anomaly detection algorithm API.\n",
      "  FutureWarning)\n"
     ]
    },
    {
     "name": "stdout",
     "output_type": "stream",
     "text": [
      "Isolation Forest ROC:0.9976, precision @ rank n:0.9501, execution time: 12.5653s\n",
      "KNN ROC:0.6507, precision @ rank n:0.212, execution time: 46.2263s\n",
      "LOF ROC:0.5556, precision @ rank n:0.1548, execution time: 57.2963s\n"
     ]
    },
    {
     "name": "stderr",
     "output_type": "stream",
     "text": [
      "C:\\Users\\rites\\Anaconda3\\lib\\site-packages\\sklearn\\covariance\\robust_covariance.py:170: RuntimeWarning: Determinant has increased; this should not happen: log(det) > log(previous_det) (-49.327730947422339 > -77.355762755800825). You may want to try with a higher value of support_fraction (current value: 0.503).\n",
      "  RuntimeWarning)\n",
      "C:\\Users\\rites\\Anaconda3\\lib\\site-packages\\sklearn\\covariance\\robust_covariance.py:170: RuntimeWarning: Determinant has increased; this should not happen: log(det) > log(previous_det) (-49.995829630708485 > -76.796856496444931). You may want to try with a higher value of support_fraction (current value: 0.503).\n",
      "  RuntimeWarning)\n",
      "C:\\Users\\rites\\Anaconda3\\lib\\site-packages\\sklearn\\covariance\\robust_covariance.py:170: RuntimeWarning: Determinant has increased; this should not happen: log(det) > log(previous_det) (-49.274626277351793 > -77.360306461377050). You may want to try with a higher value of support_fraction (current value: 0.501).\n",
      "  RuntimeWarning)\n",
      "C:\\Users\\rites\\Anaconda3\\lib\\site-packages\\sklearn\\covariance\\robust_covariance.py:170: RuntimeWarning: Determinant has increased; this should not happen: log(det) > log(previous_det) (-49.173110434046926 > -78.413070257289192). You may want to try with a higher value of support_fraction (current value: 0.501).\n",
      "  RuntimeWarning)\n",
      "C:\\Users\\rites\\Anaconda3\\lib\\site-packages\\sklearn\\covariance\\robust_covariance.py:170: RuntimeWarning: Determinant has increased; this should not happen: log(det) > log(previous_det) (-49.072713960056788 > -76.522428761809209). You may want to try with a higher value of support_fraction (current value: 0.501).\n",
      "  RuntimeWarning)\n",
      "C:\\Users\\rites\\Anaconda3\\lib\\site-packages\\sklearn\\covariance\\robust_covariance.py:170: RuntimeWarning: Determinant has increased; this should not happen: log(det) > log(previous_det) (-49.110444097033202 > -77.503391282216910). You may want to try with a higher value of support_fraction (current value: 0.501).\n",
      "  RuntimeWarning)\n",
      "C:\\Users\\rites\\Anaconda3\\lib\\site-packages\\sklearn\\covariance\\robust_covariance.py:170: RuntimeWarning: Determinant has increased; this should not happen: log(det) > log(previous_det) (-48.442422144599888 > -74.905756191798815). You may want to try with a higher value of support_fraction (current value: 0.501).\n",
      "  RuntimeWarning)\n",
      "C:\\Users\\rites\\Anaconda3\\lib\\site-packages\\sklearn\\covariance\\robust_covariance.py:170: RuntimeWarning: Determinant has increased; this should not happen: log(det) > log(previous_det) (-48.160766827852214 > -74.420439033349908). You may want to try with a higher value of support_fraction (current value: 0.501).\n",
      "  RuntimeWarning)\n",
      "C:\\Users\\rites\\Anaconda3\\lib\\site-packages\\sklearn\\covariance\\robust_covariance.py:170: RuntimeWarning: Determinant has increased; this should not happen: log(det) > log(previous_det) (-48.482125294091169 > -75.158081615763280). You may want to try with a higher value of support_fraction (current value: 0.501).\n",
      "  RuntimeWarning)\n",
      "C:\\Users\\rites\\Anaconda3\\lib\\site-packages\\sklearn\\covariance\\robust_covariance.py:170: RuntimeWarning: Determinant has increased; this should not happen: log(det) > log(previous_det) (-48.650648202801847 > -76.611315006932799). You may want to try with a higher value of support_fraction (current value: 0.501).\n",
      "  RuntimeWarning)\n",
      "C:\\Users\\rites\\Anaconda3\\lib\\site-packages\\sklearn\\covariance\\robust_covariance.py:170: RuntimeWarning: Determinant has increased; this should not happen: log(det) > log(previous_det) (-48.974025223053744 > -76.869413929783164). You may want to try with a higher value of support_fraction (current value: 0.501).\n",
      "  RuntimeWarning)\n",
      "C:\\Users\\rites\\Anaconda3\\lib\\site-packages\\sklearn\\covariance\\robust_covariance.py:170: RuntimeWarning: Determinant has increased; this should not happen: log(det) > log(previous_det) (-49.410820124297651 > -78.156516468487624). You may want to try with a higher value of support_fraction (current value: 0.501).\n",
      "  RuntimeWarning)\n",
      "C:\\Users\\rites\\Anaconda3\\lib\\site-packages\\sklearn\\covariance\\robust_covariance.py:170: RuntimeWarning: Determinant has increased; this should not happen: log(det) > log(previous_det) (-49.408227269399909 > -76.819988094718454). You may want to try with a higher value of support_fraction (current value: 0.501).\n",
      "  RuntimeWarning)\n",
      "C:\\Users\\rites\\Anaconda3\\lib\\site-packages\\sklearn\\covariance\\robust_covariance.py:170: RuntimeWarning: Determinant has increased; this should not happen: log(det) > log(previous_det) (-49.077521651976731 > -76.131922140149854). You may want to try with a higher value of support_fraction (current value: 0.501).\n",
      "  RuntimeWarning)\n",
      "C:\\Users\\rites\\Anaconda3\\lib\\site-packages\\sklearn\\covariance\\robust_covariance.py:170: RuntimeWarning: Determinant has increased; this should not happen: log(det) > log(previous_det) (-50.170960652736468 > -77.428003739390888). You may want to try with a higher value of support_fraction (current value: 0.501).\n",
      "  RuntimeWarning)\n",
      "C:\\Users\\rites\\Anaconda3\\lib\\site-packages\\sklearn\\covariance\\robust_covariance.py:170: RuntimeWarning: Determinant has increased; this should not happen: log(det) > log(previous_det) (-48.933634532253038 > -78.150072899224540). You may want to try with a higher value of support_fraction (current value: 0.501).\n",
      "  RuntimeWarning)\n",
      "C:\\Users\\rites\\Anaconda3\\lib\\site-packages\\sklearn\\covariance\\robust_covariance.py:170: RuntimeWarning: Determinant has increased; this should not happen: log(det) > log(previous_det) (-48.226376064222414 > -76.815262698754395). You may want to try with a higher value of support_fraction (current value: 0.501).\n",
      "  RuntimeWarning)\n",
      "C:\\Users\\rites\\Anaconda3\\lib\\site-packages\\sklearn\\covariance\\robust_covariance.py:170: RuntimeWarning: Determinant has increased; this should not happen: log(det) > log(previous_det) (-48.853370174070598 > -76.907667430879300). You may want to try with a higher value of support_fraction (current value: 0.501).\n",
      "  RuntimeWarning)\n",
      "C:\\Users\\rites\\Anaconda3\\lib\\site-packages\\sklearn\\covariance\\robust_covariance.py:170: RuntimeWarning: Determinant has increased; this should not happen: log(det) > log(previous_det) (-49.222411234527932 > -76.328448550797006). You may want to try with a higher value of support_fraction (current value: 0.501).\n",
      "  RuntimeWarning)\n",
      "C:\\Users\\rites\\Anaconda3\\lib\\site-packages\\sklearn\\covariance\\robust_covariance.py:170: RuntimeWarning: Determinant has increased; this should not happen: log(det) > log(previous_det) (-49.906968799197998 > -77.771112489886818). You may want to try with a higher value of support_fraction (current value: 0.501).\n",
      "  RuntimeWarning)\n",
      "C:\\Users\\rites\\Anaconda3\\lib\\site-packages\\sklearn\\covariance\\robust_covariance.py:170: RuntimeWarning: Determinant has increased; this should not happen: log(det) > log(previous_det) (-49.137708501636247 > -76.532461758893334). You may want to try with a higher value of support_fraction (current value: 0.501).\n",
      "  RuntimeWarning)\n",
      "C:\\Users\\rites\\Anaconda3\\lib\\site-packages\\sklearn\\covariance\\robust_covariance.py:170: RuntimeWarning: Determinant has increased; this should not happen: log(det) > log(previous_det) (-48.625675228993380 > -80.652705271197433). You may want to try with a higher value of support_fraction (current value: 0.501).\n",
      "  RuntimeWarning)\n",
      "C:\\Users\\rites\\Anaconda3\\lib\\site-packages\\sklearn\\covariance\\robust_covariance.py:170: RuntimeWarning: Determinant has increased; this should not happen: log(det) > log(previous_det) (-48.598825404827046 > -77.886474791957482). You may want to try with a higher value of support_fraction (current value: 0.501).\n",
      "  RuntimeWarning)\n",
      "C:\\Users\\rites\\Anaconda3\\lib\\site-packages\\sklearn\\covariance\\robust_covariance.py:170: RuntimeWarning: Determinant has increased; this should not happen: log(det) > log(previous_det) (-48.633782846227881 > -77.722150393993829). You may want to try with a higher value of support_fraction (current value: 0.501).\n",
      "  RuntimeWarning)\n",
      "C:\\Users\\rites\\Anaconda3\\lib\\site-packages\\sklearn\\covariance\\robust_covariance.py:170: RuntimeWarning: Determinant has increased; this should not happen: log(det) > log(previous_det) (-48.991803848144535 > -75.887863558328235). You may want to try with a higher value of support_fraction (current value: 0.501).\n",
      "  RuntimeWarning)\n",
      "C:\\Users\\rites\\Anaconda3\\lib\\site-packages\\sklearn\\covariance\\robust_covariance.py:170: RuntimeWarning: Determinant has increased; this should not happen: log(det) > log(previous_det) (-48.812677168429062 > -77.754186911571978). You may want to try with a higher value of support_fraction (current value: 0.501).\n",
      "  RuntimeWarning)\n",
      "C:\\Users\\rites\\Anaconda3\\lib\\site-packages\\sklearn\\covariance\\robust_covariance.py:170: RuntimeWarning: Determinant has increased; this should not happen: log(det) > log(previous_det) (-48.975312654426375 > -76.365085923216895). You may want to try with a higher value of support_fraction (current value: 0.501).\n",
      "  RuntimeWarning)\n"
     ]
    },
    {
     "name": "stderr",
     "output_type": "stream",
     "text": [
      "C:\\Users\\rites\\Anaconda3\\lib\\site-packages\\sklearn\\covariance\\robust_covariance.py:170: RuntimeWarning: Determinant has increased; this should not happen: log(det) > log(previous_det) (-49.107391249603758 > -76.244996420130605). You may want to try with a higher value of support_fraction (current value: 0.501).\n",
      "  RuntimeWarning)\n",
      "C:\\Users\\rites\\Anaconda3\\lib\\site-packages\\sklearn\\covariance\\robust_covariance.py:170: RuntimeWarning: Determinant has increased; this should not happen: log(det) > log(previous_det) (-49.038005417266980 > -78.059178500325245). You may want to try with a higher value of support_fraction (current value: 0.501).\n",
      "  RuntimeWarning)\n",
      "C:\\Users\\rites\\Anaconda3\\lib\\site-packages\\sklearn\\covariance\\robust_covariance.py:170: RuntimeWarning: Determinant has increased; this should not happen: log(det) > log(previous_det) (-49.739474358023372 > -77.609961320150006). You may want to try with a higher value of support_fraction (current value: 0.501).\n",
      "  RuntimeWarning)\n",
      "C:\\Users\\rites\\Anaconda3\\lib\\site-packages\\sklearn\\covariance\\robust_covariance.py:170: RuntimeWarning: Determinant has increased; this should not happen: log(det) > log(previous_det) (-48.662453671827926 > -77.918873406835118). You may want to try with a higher value of support_fraction (current value: 0.501).\n",
      "  RuntimeWarning)\n"
     ]
    },
    {
     "name": "stdout",
     "output_type": "stream",
     "text": [
      "MCD ROC:0.9899, precision @ rank n:0.7395, execution time: 60.2875s\n",
      "OCSVM ROC:0.9934, precision @ rank n:0.956, execution time: 169.2807s\n",
      "PCA ROC:0.9915, precision @ rank n:0.9516, execution time: 0.0515s\n",
      "\n",
      "...Processing vertebral.mat ....\n",
      "ABOD ROC:0.5366, precision @ rank n:0.2143, execution time: 0.0989s\n",
      "CBLOF ROC:0.439, precision @ rank n:0.0714, execution time: 0.07s\n",
      "FeatureBagging ROC:0.5279, precision @ rank n:0.1429, execution time: 0.056s\n",
      "HBOS ROC:0.3506, precision @ rank n:0.0, execution time: 0.002s\n"
     ]
    },
    {
     "name": "stderr",
     "output_type": "stream",
     "text": [
      "C:\\Users\\rites\\Anaconda3\\lib\\site-packages\\sklearn\\ensemble\\iforest.py:247: FutureWarning: behaviour=\"old\" is deprecated and will be removed in version 0.22. Please use behaviour=\"new\", which makes the decision_function change to match other anomaly detection algorithm API.\n",
      "  FutureWarning)\n"
     ]
    },
    {
     "name": "stdout",
     "output_type": "stream",
     "text": [
      "Isolation Forest ROC:0.3789, precision @ rank n:0.0, execution time: 0.3028s\n",
      "KNN ROC:0.4573, precision @ rank n:0.0714, execution time: 0.016s\n",
      "LOF ROC:0.4983, precision @ rank n:0.1429, execution time: 0.006s\n",
      "MCD ROC:0.4103, precision @ rank n:0.0714, execution time: 0.066s\n",
      "OCSVM ROC:0.4686, precision @ rank n:0.0714, execution time: 0.002s\n",
      "PCA ROC:0.4085, precision @ rank n:0.0, execution time: 0.002s\n",
      "\n",
      "...Processing vowels.mat ....\n",
      "ABOD ROC:0.9616, precision @ rank n:0.6316, execution time: 0.5244s\n",
      "CBLOF ROC:0.8963, precision @ rank n:0.3158, execution time: 0.1335s\n",
      "FeatureBagging ROC:0.9365, precision @ rank n:0.3684, execution time: 0.4187s\n",
      "HBOS ROC:0.6876, precision @ rank n:0.1579, execution time: 0.009s\n"
     ]
    },
    {
     "name": "stderr",
     "output_type": "stream",
     "text": [
      "C:\\Users\\rites\\Anaconda3\\lib\\site-packages\\sklearn\\ensemble\\iforest.py:247: FutureWarning: behaviour=\"old\" is deprecated and will be removed in version 0.22. Please use behaviour=\"new\", which makes the decision_function change to match other anomaly detection algorithm API.\n",
      "  FutureWarning)\n"
     ]
    },
    {
     "name": "stdout",
     "output_type": "stream",
     "text": [
      "Isolation Forest ROC:0.8214, precision @ rank n:0.1579, execution time: 0.7721s\n",
      "KNN ROC:0.9734, precision @ rank n:0.4737, execution time: 0.2322s\n",
      "LOF ROC:0.9398, precision @ rank n:0.3684, execution time: 0.054s\n",
      "MCD ROC:0.7243, precision @ rank n:0.1053, execution time: 1.4263s\n",
      "OCSVM ROC:0.8163, precision @ rank n:0.2632, execution time: 0.057s\n",
      "PCA ROC:0.6297, precision @ rank n:0.1579, execution time: 0.004s\n",
      "\n",
      "...Processing wbc.mat ....\n",
      "ABOD ROC:0.921, precision @ rank n:0.375, execution time: 0.1639s\n",
      "CBLOF ROC:0.9149, precision @ rank n:0.375, execution time: 0.072s\n",
      "FeatureBagging ROC:0.9271, precision @ rank n:0.375, execution time: 0.0929s\n",
      "HBOS ROC:0.9479, precision @ rank n:0.5, execution time: 0.013s\n"
     ]
    },
    {
     "name": "stderr",
     "output_type": "stream",
     "text": [
      "C:\\Users\\rites\\Anaconda3\\lib\\site-packages\\sklearn\\ensemble\\iforest.py:247: FutureWarning: behaviour=\"old\" is deprecated and will be removed in version 0.22. Please use behaviour=\"new\", which makes the decision_function change to match other anomaly detection algorithm API.\n",
      "  FutureWarning)\n"
     ]
    },
    {
     "name": "stdout",
     "output_type": "stream",
     "text": [
      "Isolation Forest ROC:0.9418, precision @ rank n:0.625, execution time: 0.2901s\n",
      "KNN ROC:0.9444, precision @ rank n:0.5, execution time: 0.027s\n",
      "LOF ROC:0.9227, precision @ rank n:0.375, execution time: 0.009s\n",
      "MCD ROC:0.9288, precision @ rank n:0.5, execution time: 0.1119s\n",
      "OCSVM ROC:0.9358, precision @ rank n:0.375, execution time: 0.007s\n",
      "PCA ROC:0.9262, precision @ rank n:0.375, execution time: 0.004s\n"
     ]
    }
   ],
   "source": [
    "random_state = np.random.RandomState(42)\n",
    "from time import time\n",
    "\n",
    "for mat_file in mat_file_list:\n",
    "    print(\"\\n...Processing\", mat_file, '....')\n",
    "    mat = loadmat(os.path.join('Anamoly_detec_data', mat_file))\n",
    "    \n",
    "    X = mat['X']\n",
    "    y = mat['y'].ravel()\n",
    "    outliers_fraction = np.count_nonzero(y) / len(y)\n",
    "    outliers_percentage = round(outliers_fraction * 100, ndigits = 4)\n",
    "    \n",
    "    roc_list = [mat_file[:-4], X.shape[0], X.shape[1], outliers_percentage]\n",
    "    prn_list = [mat_file[:-4], X.shape[0], X.shape[1], outliers_percentage]\n",
    "    time_list = [mat_file[:-4], X.shape[0], X.shape[1], outliers_percentage]\n",
    "            \n",
    "    X_train, X_test, y_train, y_test = train_test_split(X, y, test_size = 0.4, random_state = random_state)\n",
    "    \n",
    "    X_train_norm, X_test_norm = standardizer(X_train, X_test)\n",
    "    \n",
    "    classifiers = {\n",
    "    'ABOD': ABOD(contamination=outliers_fraction),\n",
    "    'CBLOF': CBLOF(contamination=outliers_fraction, check_estimator=False, random_state=random_state),\n",
    "    'FeatureBagging': FeatureBagging(contamination=outliers_fraction, random_state=random_state),\n",
    "    'HBOS': HBOS(contamination=outliers_fraction),\n",
    "    'Isolation Forest': IForest(contamination=outliers_fraction, random_state=random_state),\n",
    "    'KNN': KNN(contamination=outliers_fraction),\n",
    "    'LOF': LOF(contamination=outliers_fraction),\n",
    "    'MCD': MCD(contamination=outliers_fraction, random_state=random_state),\n",
    "    'OCSVM': OCSVM(contamination=outliers_fraction),\n",
    "    'PCA': PCA(contamination=outliers_fraction, random_state=random_state),\n",
    "    }\n",
    "    \n",
    "    for clf_name, clf in classifiers.items():\n",
    "        t0 = time()\n",
    "        clf.fit(X_train_norm)\n",
    "        test_scores = clf.decision_function(X_test_norm)\n",
    "        t1 = time()\n",
    "        duration = round(t1-t0, ndigits=4)\n",
    "        time_list.append(duration)\n",
    "\n",
    "        roc = round(roc_auc_score(y_test, test_scores), ndigits=4)\n",
    "        prn = round(precision_n_scores(y_test, test_scores), ndigits=4)\n",
    "\n",
    "        print('{clf_name} ROC:{roc}, precision @ rank n:{prn}, execution time: {duration}s'.format(clf_name=clf_name, roc=roc, prn=prn, duration=duration))\n",
    "\n",
    "        roc_list.append(roc)\n",
    "        prn_list.append(prn)\n",
    "        \n",
    "    temp_df = pd.DataFrame(time_list).transpose()\n",
    "    temp_df.columns = df_columns\n",
    "    time_df = pd.concat([time_df, temp_df], axis = 0)\n",
    "\n",
    "    temp_df = pd.DataFrame(roc_list).transpose()\n",
    "    temp_df.columns = df_columns\n",
    "    roc_df = pd.concat([roc_df, temp_df], axis = 0)\n",
    "\n",
    "    temp_df = pd.DataFrame(prn_list).transpose()\n",
    "    temp_df.columns = df_columns\n",
    "    prn_df = pd.concat([prn_df, temp_df], axis = 0)\n",
    "\n"
   ]
  }
 ],
 "metadata": {
  "kernelspec": {
   "display_name": "Python 3",
   "language": "python",
   "name": "python3"
  },
  "language_info": {
   "codemirror_mode": {
    "name": "ipython",
    "version": 3
   },
   "file_extension": ".py",
   "mimetype": "text/x-python",
   "name": "python",
   "nbconvert_exporter": "python",
   "pygments_lexer": "ipython3",
   "version": "3.7.3"
  }
 },
 "nbformat": 4,
 "nbformat_minor": 2
}
